{
 "cells": [
  {
   "cell_type": "code",
   "execution_count": 19,
   "metadata": {},
   "outputs": [
    {
     "name": "stdout",
     "output_type": "stream",
     "text": [
      "Requirement already satisfied: py2neo in /anaconda3/lib/python3.7/site-packages (4.3.0)\n",
      "Requirement already satisfied: pytz in /anaconda3/lib/python3.7/site-packages (from py2neo) (2019.3)\n",
      "Requirement already satisfied: prompt-toolkit~=2.0.7 in /anaconda3/lib/python3.7/site-packages (from py2neo) (2.0.10)\n",
      "Requirement already satisfied: pygments~=2.3.1 in /anaconda3/lib/python3.7/site-packages (from py2neo) (2.3.1)\n",
      "Requirement already satisfied: neobolt~=1.7.12 in /anaconda3/lib/python3.7/site-packages (from py2neo) (1.7.16)\n",
      "Requirement already satisfied: certifi in /anaconda3/lib/python3.7/site-packages (from py2neo) (2019.11.28)\n",
      "Requirement already satisfied: click==7.0 in /anaconda3/lib/python3.7/site-packages (from py2neo) (7.0)\n",
      "Requirement already satisfied: neotime~=1.7.4 in /anaconda3/lib/python3.7/site-packages (from py2neo) (1.7.4)\n",
      "Requirement already satisfied: urllib3<1.25,>=1.23 in /anaconda3/lib/python3.7/site-packages (from py2neo) (1.24.3)\n",
      "Requirement already satisfied: colorama in /anaconda3/lib/python3.7/site-packages (from py2neo) (0.4.3)\n",
      "Requirement already satisfied: wcwidth in /anaconda3/lib/python3.7/site-packages (from prompt-toolkit~=2.0.7->py2neo) (0.1.7)\n",
      "Requirement already satisfied: six>=1.9.0 in /anaconda3/lib/python3.7/site-packages (from prompt-toolkit~=2.0.7->py2neo) (1.13.0)\n",
      "Note: you may need to restart the kernel to use updated packages.\n"
     ]
    }
   ],
   "source": [
    "# install py2neo to connect python to the platform Neo4j\n",
    "pip install py2neo"
   ]
  },
  {
   "cell_type": "code",
   "execution_count": null,
   "metadata": {},
   "outputs": [],
   "source": []
  },
  {
   "cell_type": "code",
   "execution_count": 17,
   "metadata": {},
   "outputs": [],
   "source": [
    "# Set the environnement and the connection between the browser and the notebook\n",
    "myGraph = Graph(uri=\"bolt://localhost:7687\", auth=(\"tomekldc\", \"neo4j\"))"
   ]
  },
  {
   "cell_type": "code",
   "execution_count": null,
   "metadata": {},
   "outputs": [],
   "source": [
    "# Import the essentials to create a graph\n",
    "from py2neo import Graph, Node, Relationship"
   ]
  },
  {
   "cell_type": "code",
   "execution_count": 18,
   "metadata": {},
   "outputs": [],
   "source": [
    "# Set an easy example\n",
    "alice = Node(\"person\",name=\"alice\")\n",
    "bob   = Node(\"person\",name=\"bob\")\n",
    "alice_knows_bob = Relationship(alice,\"KNOWS\",bob)\n",
    "myGraph.create(alice_knows_bob)"
   ]
  },
  {
   "cell_type": "code",
   "execution_count": null,
   "metadata": {},
   "outputs": [],
   "source": []
  },
  {
   "cell_type": "code",
   "execution_count": null,
   "metadata": {},
   "outputs": [],
   "source": []
  },
  {
   "cell_type": "code",
   "execution_count": null,
   "metadata": {},
   "outputs": [],
   "source": []
  }
 ],
 "metadata": {
  "kernelspec": {
   "display_name": "Python 3",
   "language": "python",
   "name": "python3"
  },
  "language_info": {
   "codemirror_mode": {
    "name": "ipython",
    "version": 3
   },
   "file_extension": ".py",
   "mimetype": "text/x-python",
   "name": "python",
   "nbconvert_exporter": "python",
   "pygments_lexer": "ipython3",
   "version": "3.7.3"
  }
 },
 "nbformat": 4,
 "nbformat_minor": 2
}
